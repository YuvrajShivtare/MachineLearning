{
 "cells": [
  {
   "cell_type": "code",
   "execution_count": 19,
   "metadata": {},
   "outputs": [],
   "source": [
    "import pandas as pd\n",
    "from sklearn.metrics import confusion_matrix\n",
    "from sklearn.neural_network import MLPClassifier\n",
    "from sklearn.metrics import accuracy_score"
   ]
  },
  {
   "cell_type": "code",
   "execution_count": 20,
   "metadata": {},
   "outputs": [],
   "source": [
    "data_frame = pd.read_csv(\"Titanic.csv\")\n",
    "data_frame['pclass'] = data_frame['pclass'].map({'1st':1,'2nd':2,'3rd':3})\n",
    "data_frame['sex'] = data_frame['sex'].map({'male':0,'female':1})\n",
    "data_frame=data_frame.drop(columns=['parch','ticket','fare','cabin','embarked','boat','body','home.dest','name','Unnamed: 0'])\n",
    "data_frame = data_frame.dropna()"
   ]
  },
  {
   "cell_type": "code",
   "execution_count": 21,
   "metadata": {},
   "outputs": [],
   "source": [
    "X = data_frame.drop(columns= ['survived'])\n",
    "y = data_frame['survived']"
   ]
  },
  {
   "cell_type": "code",
   "execution_count": 22,
   "metadata": {},
   "outputs": [
    {
     "data": {
      "text/html": [
       "<div>\n",
       "<style scoped>\n",
       "    .dataframe tbody tr th:only-of-type {\n",
       "        vertical-align: middle;\n",
       "    }\n",
       "\n",
       "    .dataframe tbody tr th {\n",
       "        vertical-align: top;\n",
       "    }\n",
       "\n",
       "    .dataframe thead th {\n",
       "        text-align: right;\n",
       "    }\n",
       "</style>\n",
       "<table border=\"1\" class=\"dataframe\">\n",
       "  <thead>\n",
       "    <tr style=\"text-align: right;\">\n",
       "      <th></th>\n",
       "      <th>pclass</th>\n",
       "      <th>sex</th>\n",
       "      <th>age</th>\n",
       "      <th>sibsp</th>\n",
       "    </tr>\n",
       "  </thead>\n",
       "  <tbody>\n",
       "    <tr>\n",
       "      <th>0</th>\n",
       "      <td>1</td>\n",
       "      <td>1</td>\n",
       "      <td>29.0000</td>\n",
       "      <td>0</td>\n",
       "    </tr>\n",
       "    <tr>\n",
       "      <th>1</th>\n",
       "      <td>1</td>\n",
       "      <td>0</td>\n",
       "      <td>0.9167</td>\n",
       "      <td>1</td>\n",
       "    </tr>\n",
       "    <tr>\n",
       "      <th>2</th>\n",
       "      <td>1</td>\n",
       "      <td>1</td>\n",
       "      <td>2.0000</td>\n",
       "      <td>1</td>\n",
       "    </tr>\n",
       "    <tr>\n",
       "      <th>3</th>\n",
       "      <td>1</td>\n",
       "      <td>0</td>\n",
       "      <td>30.0000</td>\n",
       "      <td>1</td>\n",
       "    </tr>\n",
       "    <tr>\n",
       "      <th>4</th>\n",
       "      <td>1</td>\n",
       "      <td>1</td>\n",
       "      <td>25.0000</td>\n",
       "      <td>1</td>\n",
       "    </tr>\n",
       "  </tbody>\n",
       "</table>\n",
       "</div>"
      ],
      "text/plain": [
       "   pclass  sex      age  sibsp\n",
       "0       1    1  29.0000      0\n",
       "1       1    0   0.9167      1\n",
       "2       1    1   2.0000      1\n",
       "3       1    0  30.0000      1\n",
       "4       1    1  25.0000      1"
      ]
     },
     "execution_count": 22,
     "metadata": {},
     "output_type": "execute_result"
    }
   ],
   "source": [
    "X.head()"
   ]
  },
  {
   "cell_type": "code",
   "execution_count": 23,
   "metadata": {},
   "outputs": [
    {
     "data": {
      "text/plain": [
       "0    1\n",
       "1    1\n",
       "2    0\n",
       "3    0\n",
       "4    0\n",
       "Name: survived, dtype: int64"
      ]
     },
     "execution_count": 23,
     "metadata": {},
     "output_type": "execute_result"
    }
   ],
   "source": [
    "y.head()"
   ]
  },
  {
   "cell_type": "code",
   "execution_count": 24,
   "metadata": {},
   "outputs": [],
   "source": [
    "from sklearn.model_selection import train_test_split\n",
    "\n",
    "X_train, X_test, y_train, y_test = train_test_split(X, y, test_size=0.30)"
   ]
  },
  {
   "cell_type": "code",
   "execution_count": 25,
   "metadata": {},
   "outputs": [],
   "source": [
    "def printCM(mlp):\n",
    "    y_pred1 = mlp.predict(X_train)\n",
    "    cm = confusion_matrix(y_train, y_pred1)\n",
    "    print('\\t confusion matrix for train:\\n {}'.format(cm))\n",
    "    TN = cm[0][0]\n",
    "    FN = cm[1][0]\n",
    "    TP = cm[1][1]\n",
    "    FP = cm[0][1]\n",
    "    precision1 = TP/(TP+FN)\n",
    "    recall1 = TN/(FP+TN)\n",
    "    y_pred = mlp.predict(X_test)\n",
    "    cm = confusion_matrix(y_test, y_pred)\n",
    "    print('\\t confusion matrix for test:\\n',cm)\n",
    "    TN = cm[0][0]\n",
    "    FN = cm[1][0]\n",
    "    TP = cm[1][1]\n",
    "    FP = cm[0][1]\n",
    "    precision2 = TP/(TP+FN)\n",
    "    recall2 = TN/(FP+TN)\n",
    "    print(\"\\t in‐sample percent survivors correctly predicted (on train set) : {0:.2f}%\".format(precision1*100))\n",
    "    print(\"\\t in‐sample percent fatalities correctly predicted (on train set) : {0:.2f}%\".format(recall1*100))\n",
    "    print(\"\\t out‐of‐sample percent survivors correctly predicted (on test set) : {0:.2f}%\".format(precision2*100))\n",
    "    print(\"\\t out-of‐sample percent fatalities correctly predicted (on test set) : {0:.2f}%\".format(recall2*100))\n",
    "    print(\"\\t Accuracy on test data: {0:.2f}%\".format(accuracy_score(y_test, y_pred)*100))"
   ]
  },
  {
   "cell_type": "code",
   "execution_count": 27,
   "metadata": {},
   "outputs": [
    {
     "name": "stdout",
     "output_type": "stream",
     "text": [
      "\n",
      "\n",
      " #Learning rate: 0.01\n",
      "\t confusion matrix for train:\n",
      " [[369  57]\n",
      " [ 92 214]]\n",
      "\t confusion matrix for test:\n",
      " [[164  29]\n",
      " [ 38  83]]\n",
      "\t in‐sample percent survivors correctly predicted (on train set) : 69.93%\n",
      "\t in‐sample percent fatalities correctly predicted (on train set) : 86.62%\n",
      "\t out‐of‐sample percent survivors correctly predicted (on test set) : 68.60%\n",
      "\t out-of‐sample percent fatalities correctly predicted (on test set) : 84.97%\n",
      "\t Accuracy on test data: 78.66%\n",
      "\n",
      "\n",
      " #Learning rate: 0.02\n",
      "\t confusion matrix for train:\n",
      " [[366  60]\n",
      " [ 85 221]]\n",
      "\t confusion matrix for test:\n",
      " [[164  29]\n",
      " [ 35  86]]\n",
      "\t in‐sample percent survivors correctly predicted (on train set) : 72.22%\n",
      "\t in‐sample percent fatalities correctly predicted (on train set) : 85.92%\n",
      "\t out‐of‐sample percent survivors correctly predicted (on test set) : 71.07%\n",
      "\t out-of‐sample percent fatalities correctly predicted (on test set) : 84.97%\n",
      "\t Accuracy on test data: 79.62%\n",
      "\n",
      "\n",
      " #Learning rate: 0.03\n",
      "\t confusion matrix for train:\n",
      " [[389  37]\n",
      " [ 97 209]]\n",
      "\t confusion matrix for test:\n",
      " [[179  14]\n",
      " [ 39  82]]\n",
      "\t in‐sample percent survivors correctly predicted (on train set) : 68.30%\n",
      "\t in‐sample percent fatalities correctly predicted (on train set) : 91.31%\n",
      "\t out‐of‐sample percent survivors correctly predicted (on test set) : 67.77%\n",
      "\t out-of‐sample percent fatalities correctly predicted (on test set) : 92.75%\n",
      "\t Accuracy on test data: 83.12%\n"
     ]
    }
   ],
   "source": [
    "l_rate=[0.01,0.02,0.03]\n",
    "for i in range(0,len(l_rate)):\n",
    "    mlp = MLPClassifier(hidden_layer_sizes=(3,3),learning_rate_init=l_rate[i],alpha=1e-5, activation='logistic',momentum=0.9, solver='adam', max_iter=1000)\n",
    "    mlp.fit(X_train,y_train)\n",
    "    print('\\n\\n #Learning rate:', l_rate[i])\n",
    "    printCM(mlp)"
   ]
  },
  {
   "cell_type": "markdown",
   "metadata": {},
   "source": [
    "**We observe the Accuracy on test data is highest with learning rate 0.03. Hence, choosing learning rate as 0.03 for further use.**"
   ]
  },
  {
   "cell_type": "code",
   "execution_count": 32,
   "metadata": {},
   "outputs": [
    {
     "name": "stdout",
     "output_type": "stream",
     "text": [
      "\n",
      "\n",
      " #Alpha: 1e-05\n",
      "\t confusion matrix for train:\n",
      " [[393  33]\n",
      " [104 202]]\n",
      "\t confusion matrix for test:\n",
      " [[181  12]\n",
      " [ 42  79]]\n",
      "\t in‐sample percent survivors correctly predicted (on train set) : 66.01%\n",
      "\t in‐sample percent fatalities correctly predicted (on train set) : 92.25%\n",
      "\t out‐of‐sample percent survivors correctly predicted (on test set) : 65.29%\n",
      "\t out-of‐sample percent fatalities correctly predicted (on test set) : 93.78%\n",
      "\t Accuracy on test data: 82.80%\n",
      "\n",
      "\n",
      " #Alpha: 2e-06\n",
      "\t confusion matrix for train:\n",
      " [[354  72]\n",
      " [ 68 238]]\n",
      "\t confusion matrix for test:\n",
      " [[160  33]\n",
      " [ 30  91]]\n",
      "\t in‐sample percent survivors correctly predicted (on train set) : 77.78%\n",
      "\t in‐sample percent fatalities correctly predicted (on train set) : 83.10%\n",
      "\t out‐of‐sample percent survivors correctly predicted (on test set) : 75.21%\n",
      "\t out-of‐sample percent fatalities correctly predicted (on test set) : 82.90%\n",
      "\t Accuracy on test data: 79.94%\n",
      "\n",
      "\n",
      " #Alpha: 3e-07\n",
      "\t confusion matrix for train:\n",
      " [[377  49]\n",
      " [ 98 208]]\n",
      "\t confusion matrix for test:\n",
      " [[171  22]\n",
      " [ 42  79]]\n",
      "\t in‐sample percent survivors correctly predicted (on train set) : 67.97%\n",
      "\t in‐sample percent fatalities correctly predicted (on train set) : 88.50%\n",
      "\t out‐of‐sample percent survivors correctly predicted (on test set) : 65.29%\n",
      "\t out-of‐sample percent fatalities correctly predicted (on test set) : 88.60%\n",
      "\t Accuracy on test data: 79.62%\n"
     ]
    }
   ],
   "source": [
    "alpha=[1e-5,2e-6,3e-7]\n",
    "for i in range(0,len(alpha)):\n",
    "    mlp = MLPClassifier(hidden_layer_sizes=(3,3),learning_rate_init= 0.03,alpha=alpha[i], activation='logistic', solver='adam',momentum=0.9, max_iter=1000)\n",
    "    mlp.fit(X_train,y_train)\n",
    "    print('\\n\\n #Alpha:', alpha[i])\n",
    "    printCM(mlp)"
   ]
  },
  {
   "cell_type": "markdown",
   "metadata": {},
   "source": [
    "**We observe the Accuracy on test data is highest with Alpha: 1e-05. Hence, choosing Alpha 1e-05 for further use.**"
   ]
  },
  {
   "cell_type": "code",
   "execution_count": 34,
   "metadata": {},
   "outputs": [
    {
     "name": "stdout",
     "output_type": "stream",
     "text": [
      "\n",
      "\n",
      " #Momentum: 0.6\n",
      "\t confusion matrix for train:\n",
      " [[389  37]\n",
      " [113 193]]\n",
      "\t confusion matrix for test:\n",
      " [[180  13]\n",
      " [ 46  75]]\n",
      "\t in‐sample percent survivors correctly predicted (on train set) : 63.07%\n",
      "\t in‐sample percent fatalities correctly predicted (on train set) : 91.31%\n",
      "\t out‐of‐sample percent survivors correctly predicted (on test set) : 61.98%\n",
      "\t out-of‐sample percent fatalities correctly predicted (on test set) : 93.26%\n",
      "\t Accuracy on test data: 81.21%\n",
      "\n",
      "\n",
      " #Momentum: 0.7\n",
      "\t confusion matrix for train:\n",
      " [[383  43]\n",
      " [106 200]]\n",
      "\t confusion matrix for test:\n",
      " [[179  14]\n",
      " [ 45  76]]\n",
      "\t in‐sample percent survivors correctly predicted (on train set) : 65.36%\n",
      "\t in‐sample percent fatalities correctly predicted (on train set) : 89.91%\n",
      "\t out‐of‐sample percent survivors correctly predicted (on test set) : 62.81%\n",
      "\t out-of‐sample percent fatalities correctly predicted (on test set) : 92.75%\n",
      "\t Accuracy on test data: 81.21%\n",
      "\n",
      "\n",
      " #Momentum: 0.8\n",
      "\t confusion matrix for train:\n",
      " [[393  33]\n",
      " [105 201]]\n",
      "\t confusion matrix for test:\n",
      " [[182  11]\n",
      " [ 43  78]]\n",
      "\t in‐sample percent survivors correctly predicted (on train set) : 65.69%\n",
      "\t in‐sample percent fatalities correctly predicted (on train set) : 92.25%\n",
      "\t out‐of‐sample percent survivors correctly predicted (on test set) : 64.46%\n",
      "\t out-of‐sample percent fatalities correctly predicted (on test set) : 94.30%\n",
      "\t Accuracy on test data: 82.80%\n",
      "\n",
      "\n",
      " #Momentum: 0.9\n",
      "\t confusion matrix for train:\n",
      " [[406  20]\n",
      " [120 186]]\n",
      "\t confusion matrix for test:\n",
      " [[185   8]\n",
      " [ 44  77]]\n",
      "\t in‐sample percent survivors correctly predicted (on train set) : 60.78%\n",
      "\t in‐sample percent fatalities correctly predicted (on train set) : 95.31%\n",
      "\t out‐of‐sample percent survivors correctly predicted (on test set) : 63.64%\n",
      "\t out-of‐sample percent fatalities correctly predicted (on test set) : 95.85%\n",
      "\t Accuracy on test data: 83.44%\n"
     ]
    }
   ],
   "source": [
    "moment=[0.6,0.7,0.8,0.9]\n",
    "for i in range(0,len(moment)):\n",
    "    mlp = MLPClassifier(hidden_layer_sizes=(3,3),learning_rate_init= 0.03,alpha=1e-5, activation='logistic', solver='adam',momentum=moment[i], max_iter=1000)\n",
    "    mlp.fit(X_train,y_train)\n",
    "    print('\\n\\n #Momentum:', moment[i])\n",
    "    printCM(mlp)"
   ]
  },
  {
   "cell_type": "markdown",
   "metadata": {},
   "source": [
    "**We observe the Accuracy on test data is highest with Momentum: 0.9. Hence, choosing Momentum: 0.9 for further use.**"
   ]
  },
  {
   "cell_type": "code",
   "execution_count": 35,
   "metadata": {},
   "outputs": [
    {
     "name": "stdout",
     "output_type": "stream",
     "text": [
      "\n",
      "\n",
      " #Hidden Layers: (3, 3)\n",
      "\t confusion matrix for train:\n",
      " [[396  30]\n",
      " [111 195]]\n",
      "\t confusion matrix for test:\n",
      " [[181  12]\n",
      " [ 43  78]]\n",
      "\t in‐sample percent survivors correctly predicted (on train set) : 63.73%\n",
      "\t in‐sample percent fatalities correctly predicted (on train set) : 92.96%\n",
      "\t out‐of‐sample percent survivors correctly predicted (on test set) : 64.46%\n",
      "\t out-of‐sample percent fatalities correctly predicted (on test set) : 93.78%\n",
      "\t Accuracy on test data: 82.48%\n",
      "\n",
      "\n",
      " #Hidden Layers: (5, 5)\n",
      "\t confusion matrix for train:\n",
      " [[371  55]\n",
      " [ 89 217]]\n",
      "\t confusion matrix for test:\n",
      " [[170  23]\n",
      " [ 38  83]]\n",
      "\t in‐sample percent survivors correctly predicted (on train set) : 70.92%\n",
      "\t in‐sample percent fatalities correctly predicted (on train set) : 87.09%\n",
      "\t out‐of‐sample percent survivors correctly predicted (on test set) : 68.60%\n",
      "\t out-of‐sample percent fatalities correctly predicted (on test set) : 88.08%\n",
      "\t Accuracy on test data: 80.57%\n",
      "\n",
      "\n",
      " #Hidden Layers: (8, 8)\n",
      "\t confusion matrix for train:\n",
      " [[395  31]\n",
      " [104 202]]\n",
      "\t confusion matrix for test:\n",
      " [[181  12]\n",
      " [ 42  79]]\n",
      "\t in‐sample percent survivors correctly predicted (on train set) : 66.01%\n",
      "\t in‐sample percent fatalities correctly predicted (on train set) : 92.72%\n",
      "\t out‐of‐sample percent survivors correctly predicted (on test set) : 65.29%\n",
      "\t out-of‐sample percent fatalities correctly predicted (on test set) : 93.78%\n",
      "\t Accuracy on test data: 82.80%\n",
      "\n",
      "\n",
      " #Hidden Layers: (15, 15)\n",
      "\t confusion matrix for train:\n",
      " [[367  59]\n",
      " [ 81 225]]\n",
      "\t confusion matrix for test:\n",
      " [[166  27]\n",
      " [ 34  87]]\n",
      "\t in‐sample percent survivors correctly predicted (on train set) : 73.53%\n",
      "\t in‐sample percent fatalities correctly predicted (on train set) : 86.15%\n",
      "\t out‐of‐sample percent survivors correctly predicted (on test set) : 71.90%\n",
      "\t out-of‐sample percent fatalities correctly predicted (on test set) : 86.01%\n",
      "\t Accuracy on test data: 80.57%\n"
     ]
    }
   ],
   "source": [
    "layers=[(3,3),(5,5),(8,8),(15,15)]\n",
    "for i in range(0,len(layers)):\n",
    "    mlp = MLPClassifier(hidden_layer_sizes=layers[i],learning_rate_init= 0.03,alpha=1e-5, activation='logistic', solver='adam',momentum= 0.9, max_iter=1000)\n",
    "    mlp.fit(X_train,y_train)\n",
    "    print('\\n\\n #Hidden Layers:', layers[i])\n",
    "    printCM(mlp)"
   ]
  },
  {
   "cell_type": "markdown",
   "metadata": {},
   "source": [
    "**We observe the Accuracy on test data is highest with Hidden Layer: (3,3). Hence, choosing Hidden Layer: (3,3) for further use.**"
   ]
  },
  {
   "cell_type": "code",
   "execution_count": 53,
   "metadata": {},
   "outputs": [
    {
     "name": "stdout",
     "output_type": "stream",
     "text": [
      "in‐sample percent survivors correctly predicted (on train set) : 63.73%\n",
      "in‐sample percent fatalities correctly predicted (on train set) : 91.31%\n",
      "out‐of‐sample percent survivors correctly predicted (on test set) : 61.16%\n",
      "out-of‐sample percent fatalities correctly predicted (on test set) : 93.26%\n",
      "Accuracy on test data: 80.89%\n"
     ]
    }
   ],
   "source": [
    "mlp = MLPClassifier(hidden_layer_sizes=(3,3),learning_rate_init= 0.03,alpha=1e-5, activation='logistic', solver='adam',momentum= 0.9, max_iter=1000)\n",
    "mlp.fit(X_train,y_train)\n",
    "y_pred1 = mlp.predict(X_train)\n",
    "cm = confusion_matrix(y_train, y_pred1)\n",
    "TN = cm[0][0]\n",
    "FN = cm[1][0]\n",
    "TP = cm[1][1]\n",
    "FP = cm[0][1]\n",
    "precision1 = TP/(TP+FN)\n",
    "recall1 = TN/(FP+TN)\n",
    "y_pred = mlp.predict(X_test)\n",
    "cm = confusion_matrix(y_test, y_pred)\n",
    "TN = cm[0][0]\n",
    "FN = cm[1][0]\n",
    "TP = cm[1][1]\n",
    "FP = cm[0][1]\n",
    "precision2 = TP/(TP+FN)\n",
    "recall2 = TN/(FP+TN)\n",
    "print(\"in‐sample percent survivors correctly predicted (on train set) : {0:.2f}%\".format(precision1*100))\n",
    "print(\"in‐sample percent fatalities correctly predicted (on train set) : {0:.2f}%\".format(recall1*100))\n",
    "print(\"out‐of‐sample percent survivors correctly predicted (on test set) : {0:.2f}%\".format(precision2*100))\n",
    "print(\"out-of‐sample percent fatalities correctly predicted (on test set) : {0:.2f}%\".format(recall2*100))\n",
    "acc = accuracy_score(y_test, y_pred)*100\n",
    "print(\"Accuracy on test data: {0:.2f}%\".format(acc))"
   ]
  },
  {
   "cell_type": "code",
   "execution_count": 54,
   "metadata": {},
   "outputs": [
    {
     "data": {
      "text/html": [
       "<div>\n",
       "<style scoped>\n",
       "    .dataframe tbody tr th:only-of-type {\n",
       "        vertical-align: middle;\n",
       "    }\n",
       "\n",
       "    .dataframe tbody tr th {\n",
       "        vertical-align: top;\n",
       "    }\n",
       "\n",
       "    .dataframe thead th {\n",
       "        text-align: right;\n",
       "    }\n",
       "</style>\n",
       "<table border=\"1\" class=\"dataframe\">\n",
       "  <thead>\n",
       "    <tr style=\"text-align: right;\">\n",
       "      <th></th>\n",
       "      <th>Acc_NN</th>\n",
       "      <th>Acc_DT</th>\n",
       "    </tr>\n",
       "    <tr>\n",
       "      <th>Acc</th>\n",
       "      <th></th>\n",
       "      <th></th>\n",
       "    </tr>\n",
       "  </thead>\n",
       "  <tbody>\n",
       "    <tr>\n",
       "      <th>In_sample_survivor</th>\n",
       "      <td>63.725490</td>\n",
       "      <td>51.359517</td>\n",
       "    </tr>\n",
       "    <tr>\n",
       "      <th>In_sample_fatalaties</th>\n",
       "      <td>91.314554</td>\n",
       "      <td>97.777778</td>\n",
       "    </tr>\n",
       "    <tr>\n",
       "      <th>Out_sample_survivor</th>\n",
       "      <td>61.157025</td>\n",
       "      <td>51.479290</td>\n",
       "    </tr>\n",
       "    <tr>\n",
       "      <th>Out_sample_fatalaties</th>\n",
       "      <td>93.264249</td>\n",
       "      <td>96.875000</td>\n",
       "    </tr>\n",
       "    <tr>\n",
       "      <th>Accuracy on test data(%)</th>\n",
       "      <td>80.891720</td>\n",
       "      <td>78.880000</td>\n",
       "    </tr>\n",
       "  </tbody>\n",
       "</table>\n",
       "</div>"
      ],
      "text/plain": [
       "                             Acc_NN     Acc_DT\n",
       "Acc                                           \n",
       "In_sample_survivor        63.725490  51.359517\n",
       "In_sample_fatalaties      91.314554  97.777778\n",
       "Out_sample_survivor       61.157025  51.479290\n",
       "Out_sample_fatalaties     93.264249  96.875000\n",
       "Accuracy on test data(%)  80.891720  78.880000"
      ]
     },
     "execution_count": 54,
     "metadata": {},
     "output_type": "execute_result"
    }
   ],
   "source": [
    "Acc_NN=[precision1*100,recall1*100,precision2*100,recall2*100, acc ]\n",
    "Acc_DT=[51.3595166163142,97.77777777777777,51.4792899408284,96.875, 78.88]\n",
    "Acc=['In_sample_survivor', 'In_sample_fatalaties', 'Out_sample_survivor', 'Out_sample_fatalaties','Accuracy on test data(%)']\n",
    "df = pd.DataFrame({'Acc':Acc, 'Acc_NN':Acc_NN, 'Acc_DT': Acc_DT})\n",
    "df.set_index('Acc')"
   ]
  },
  {
   "cell_type": "markdown",
   "metadata": {},
   "source": [
    "**From the above comparison with the results with NN and Decision Tree, Accuracy on test data in NN is slightly better than that decision tree.**"
   ]
  },
  {
   "cell_type": "code",
   "execution_count": null,
   "metadata": {},
   "outputs": [],
   "source": []
  }
 ],
 "metadata": {
  "kernelspec": {
   "display_name": "Python 3",
   "language": "python",
   "name": "python3"
  },
  "language_info": {
   "codemirror_mode": {
    "name": "ipython",
    "version": 3
   },
   "file_extension": ".py",
   "mimetype": "text/x-python",
   "name": "python",
   "nbconvert_exporter": "python",
   "pygments_lexer": "ipython3",
   "version": "3.7.4"
  }
 },
 "nbformat": 4,
 "nbformat_minor": 2
}
