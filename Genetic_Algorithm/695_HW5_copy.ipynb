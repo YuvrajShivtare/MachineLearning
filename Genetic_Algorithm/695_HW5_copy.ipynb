{
 "cells": [
  {
   "cell_type": "code",
   "execution_count": 1,
   "metadata": {
    "colab": {},
    "colab_type": "code",
    "id": "KdWOfL15AA4q"
   },
   "outputs": [],
   "source": [
    "import matplotlib.pyplot as plt\n",
    "plt.style.use('seaborn-whitegrid')\n",
    "import numpy as np\n",
    "noise_scale = 100\n",
    "number_of_samples = 50\n",
    "x = 25*(np.random.rand(number_of_samples) - 0.8)\n",
    "y = 5 * x + 20 * x**2 + 1 * x**3 + noise_scale*np.random.randn(number_of_samples)"
   ]
  },
  {
   "cell_type": "code",
   "execution_count": 18,
   "metadata": {
    "colab": {
     "base_uri": "https://localhost:8080/",
     "height": 279
    },
    "colab_type": "code",
    "id": "yPAeGzxfAQQP",
    "outputId": "5430b779-2aef-4115-c277-e5d65ed2ed3e"
   },
   "outputs": [
    {
     "data": {
      "text/plain": [
       "[<matplotlib.lines.Line2D at 0x1af9b485ec8>]"
      ]
     },
     "execution_count": 18,
     "metadata": {},
     "output_type": "execute_result"
    },
    {
     "data": {
      "image/png": "[encoded data removed]",
      "text/plain": [
       "<Figure size 432x288 with 1 Axes>"
      ]
     },
     "metadata": {
      "needs_background": "light"
     },
     "output_type": "display_data"
    }
   ],
   "source": [
    "plt.plot(x,y,'o')"
   ]
  },
  {
   "cell_type": "code",
   "execution_count": 31,
   "metadata": {
    "colab": {
     "base_uri": "https://localhost:8080/",
     "height": 294
    },
    "colab_type": "code",
    "id": "TfqZEFpUAu1x",
    "outputId": "a4c51031-2c5c-4a68-acfc-fe1f323f00d7"
   },
   "outputs": [
    {
     "data": {
      "text/plain": [
       "poly1d([  1.06556365,  21.54178324,  10.86975538, -39.42162186])"
      ]
     },
     "execution_count": 31,
     "metadata": {},
     "output_type": "execute_result"
    },
    {
     "data": {
      "image/png": "[encoded data removed]",
      "text/plain": [
       "<Figure size 432x288 with 1 Axes>"
      ]
     },
     "metadata": {
      "needs_background": "light"
     },
     "output_type": "display_data"
    }
   ],
   "source": [
    "poly = np.poly1d(np.polyfit(x,y,3))\n",
    "xn = np.linspace(-20, 6, 100)\n",
    "yn = poly(xn)\n",
    "plt.plot(x,y,'ro')\n",
    "plt.plot(xn,yn)\n",
    "plt.title(\"Polynomial Curve Fitting Result\")\n",
    "poly"
   ]
  },
  {
   "cell_type": "code",
   "execution_count": 4,
   "metadata": {
    "colab": {
     "base_uri": "https://localhost:8080/",
     "height": 34
    },
    "colab_type": "code",
    "id": "01zpb_G8B0to",
    "outputId": "4732dfba-fe63-48c3-b6f9-3181af91d385"
   },
   "outputs": [
    {
     "data": {
      "text/plain": [
       "7336.616799926504"
      ]
     },
     "execution_count": 4,
     "metadata": {},
     "output_type": "execute_result"
    }
   ],
   "source": [
    "mse = 0\n",
    "for i, d in enumerate(x):\n",
    "  mse = mse + (y[i] - poly(d))**2/number_of_samples\n",
    "mse"
   ]
  },
  {
   "cell_type": "markdown",
   "metadata": {
    "colab_type": "text",
    "id": "Fjp_fWACW6ly"
   },
   "source": [
    "# For Genetic Algorithm-->\n",
    "We're going to assume that the number of genes is 4 (for a 3 degree polynomial). We'll create 100 arrays(Organisms) with random values of these genes and then compute the MSE for these polynomials. We will discard the lowest performing 90 gene-sets and generate new genes from the 10 best performing genes. We will repeat this process 500 times."
   ]
  },
  {
   "cell_type": "code",
   "execution_count": 5,
   "metadata": {
    "colab": {
     "base_uri": "https://localhost:8080/",
     "height": 51
    },
    "colab_type": "code",
    "id": "j0vqKI7mDEzh",
    "outputId": "ed98eb5a-1155-4ea3-c968-529bc6a58ce4"
   },
   "outputs": [
    {
     "data": {
      "text/plain": [
       "array([-2.1194426137959113, 3.3400371804739812, 4.927354018072423,\n",
       "       -4.086981520907731], dtype=object)"
      ]
     },
     "execution_count": 5,
     "metadata": {},
     "output_type": "execute_result"
    }
   ],
   "source": [
    "import random\n",
    "genes = np.empty(shape=(100,4),dtype='object') \n",
    "for i in range(0,100):\n",
    "  for j in range(0,4):\n",
    "    genes[i][j]=random.uniform(-5,5)\n",
    "  del j\n",
    "del i\n",
    "genes[99]"
   ]
  },
  {
   "cell_type": "code",
   "execution_count": 6,
   "metadata": {
    "colab": {},
    "colab_type": "code",
    "id": "ECBG7o7jZT8q"
   },
   "outputs": [],
   "source": [
    "y_new = np.empty(100, dtype=object)\n",
    "MSE_GA = np.empty(100, dtype=object)\n",
    "new_genes = np.empty(shape=(100,4),dtype='object') "
   ]
  },
  {
   "cell_type": "code",
   "execution_count": 7,
   "metadata": {
    "colab": {},
    "colab_type": "code",
    "id": "kIY7IEbQhDri"
   },
   "outputs": [],
   "source": [
    "for l in range (1,500):\n",
    "  for j in range(0,100):\n",
    "    y_new[j]=np.poly1d(genes[j])\n",
    "    mse=0\n",
    "    for k, d in enumerate(x):\n",
    "      mse=mse+(y[k]-y_new[j](d))**2/number_of_samples\n",
    "      MSE_GA[j]=mse\n",
    "  k=10\n",
    "  idx = np.argpartition(MSE_GA, k)\n",
    "  \n",
    "  for i in range(0,k):\n",
    "    new_genes[i*10]=genes[idx[i]]\n",
    "    for j in range(1,10):\n",
    "      new_genes[i*10+j]=genes[idx[i]]\n",
    "      r=random.randint(0,3)\n",
    "      new_genes[i*10+j][r]=new_genes[i*10+j][r]*random.uniform(0,2)\n",
    "  genes=new_genes\n"
   ]
  },
  {
   "cell_type": "code",
   "execution_count": 8,
   "metadata": {
    "colab": {
     "base_uri": "https://localhost:8080/",
     "height": 34
    },
    "colab_type": "code",
    "id": "ahF4sfnBlxBE",
    "outputId": "d7e7d13e-23ad-4885-a5da-3522c45f7df0"
   },
   "outputs": [
    {
     "data": {
      "text/plain": [
       "9437.246882944148"
      ]
     },
     "execution_count": 8,
     "metadata": {},
     "output_type": "execute_result"
    }
   ],
   "source": [
    "for j in range(0,100):\n",
    "  y_new[j]=np.poly1d(genes[j])\n",
    "  mse=0\n",
    "  for k, d in enumerate(x):\n",
    "    mse=mse+(y[k]-y_new[j](d))**2/number_of_samples\n",
    "    MSE_GA[j]=mse\n",
    "k=10\n",
    "idx = np.argpartition(MSE_GA, k)\n",
    "y_new[idx[0]]\n",
    "MSE_GA[idx[0]]"
   ]
  },
  {
   "cell_type": "code",
   "execution_count": 9,
   "metadata": {},
   "outputs": [
    {
     "data": {
      "text/plain": [
       "poly1d([0.9027096300606022, 17.817296383465028, 1.0503289757969328e-46,\n",
       "       31.226091107819446], dtype=object)"
      ]
     },
     "execution_count": 9,
     "metadata": {},
     "output_type": "execute_result"
    }
   ],
   "source": [
    "y_new[idx[0]]\n"
   ]
  },
  {
   "cell_type": "code",
   "execution_count": 10,
   "metadata": {
    "colab": {
     "base_uri": "https://localhost:8080/",
     "height": 279
    },
    "colab_type": "code",
    "id": "h61kWD0Ho8Y7",
    "outputId": "fefc1afd-5659-4e31-e806-ea3b4afa0567"
   },
   "outputs": [
    {
     "data": {
      "text/plain": [
       "[<matplotlib.lines.Line2D at 0x1af9b04da88>]"
      ]
     },
     "execution_count": 10,
     "metadata": {},
     "output_type": "execute_result"
    },
    {
     "data": {
      "image/png": "[encoded data removed]",
      "text/plain": [
       "<Figure size 432x288 with 1 Axes>"
      ]
     },
     "metadata": {
      "needs_background": "light"
     },
     "output_type": "display_data"
    }
   ],
   "source": [
    "xn = np.linspace(-20, 6, 100)\n",
    "yn = poly(xn)\n",
    "yn2=y_new[idx[0]](xn)\n",
    "plt.plot(x,y,'ro')\n",
    "plt.plot(xn,yn, 'g')\n",
    "plt.plot(xn,yn2, 'b')"
   ]
  },
  {
   "cell_type": "code",
   "execution_count": 11,
   "metadata": {},
   "outputs": [
    {
     "name": "stdout",
     "output_type": "stream",
     "text": [
      "Input array : \n",
      " [2 0 1 5 4 9]\n",
      "Output partitioned array indices :\n",
      "  [1 2 0 4 3 5]\n"
     ]
    }
   ],
   "source": [
    "import numpy as geek \n",
    "  \n",
    "# input array \n",
    "in_arr = geek.array([ 2, 0,  1, 5, 4, 9]) \n",
    "print (\"Input array : \\n\", in_arr)  \n",
    "  \n",
    "out_arr = geek.argpartition(in_arr, 3) \n",
    "print (\"Output partitioned array indices :\\n \", out_arr) "
   ]
  },
  {
   "cell_type": "code",
   "execution_count": 12,
   "metadata": {},
   "outputs": [
    {
     "data": {
      "text/plain": [
       "array([ 0,  2,  6,  8, 10, 57, 20, 53, 52, 50, 25, 58, 82, 83, 84, 80, 85,\n",
       "       13, 12,  7, 14, 56, 37, 78, 38, 31, 15, 43, 71, 77, 72, 74, 76, 48,\n",
       "       47, 41, 40, 70, 73, 49, 36, 28, 30, 33, 23, 51, 79, 67, 99, 39, 64,\n",
       "       60, 62, 90, 93, 19, 96, 24, 45, 46, 65, 22, 29,  1, 86, 26, 63, 54,\n",
       "       59, 98, 17, 34, 91, 35, 69, 94, 66, 92,  9, 88, 89, 27, 11, 18, 68,\n",
       "        3,  4, 97, 16, 44, 81, 95, 87, 42,  5, 55, 21, 32, 61, 75],\n",
       "      dtype=int64)"
      ]
     },
     "execution_count": 12,
     "metadata": {},
     "output_type": "execute_result"
    }
   ],
   "source": [
    "idx"
   ]
  },
  {
   "cell_type": "code",
   "execution_count": null,
   "metadata": {},
   "outputs": [],
   "source": []
  }
 ],
 "metadata": {
  "colab": {
   "collapsed_sections": [],
   "name": "695_HW5.ipynb",
   "provenance": []
  },
  "kernelspec": {
   "display_name": "Python 3",
   "language": "python",
   "name": "python3"
  },
  "language_info": {
   "codemirror_mode": {
    "name": "ipython",
    "version": 3
   },
   "file_extension": ".py",
   "mimetype": "text/x-python",
   "name": "python",
   "nbconvert_exporter": "python",
   "pygments_lexer": "ipython3",
   "version": "3.7.4"
  }
 },
 "nbformat": 4,
 "nbformat_minor": 1
}
